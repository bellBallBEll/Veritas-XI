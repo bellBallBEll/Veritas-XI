{
 "cells": [
  {
   "cell_type": "code",
   "execution_count": 1,
   "id": "5259ebd4-ef21-4900-9abe-d5667c73f7fb",
   "metadata": {},
   "outputs": [],
   "source": [
    "from selenium import webdriver\n",
    "from selenium.webdriver.chrome.service import Service\n",
    "from selenium.webdriver.common.by import By\n",
    "from selenium.webdriver.support.ui import WebDriverWait\n",
    "from selenium.webdriver.support import expected_conditions as EC\n",
    "from bs4 import BeautifulSoup\n",
    "import pandas as pd\n",
    "import time"
   ]
  },
  {
   "cell_type": "code",
   "execution_count": 4,
   "id": "1b914ec6-e450-4fae-9c36-fb8d8613e371",
   "metadata": {},
   "outputs": [],
   "source": [
    "player_url = \"https://fbref.com/en/players/1f44ac21/scout/12524/Erling-Haaland-Scouting-Report\""
   ]
  },
  {
   "cell_type": "code",
   "execution_count": 5,
   "id": "03a9f8dd-6464-4b33-922c-e7c8b05a7a0d",
   "metadata": {},
   "outputs": [],
   "source": [
    "response = requests.get(player_url)\n",
    "html_content = response.text"
   ]
  },
  {
   "cell_type": "code",
   "execution_count": 6,
   "id": "fd67287a-aeda-41cf-a979-b65397926e39",
   "metadata": {},
   "outputs": [],
   "source": [
    "soup = BeautifulSoup(html_content, 'html.parser')"
   ]
  },
  {
   "cell_type": "code",
   "execution_count": 2,
   "id": "2152681b-1e1b-4dee-a96e-a4fe386f4090",
   "metadata": {
    "scrolled": true
   },
   "outputs": [
    {
     "name": "stdout",
     "output_type": "stream",
     "text": [
      "Opening URL with Selenium (Edge): https://fbref.com/en/players/1f44ac21/scout/12524/Erling-Haaland-Scouting-Report\n",
      "Table element 'scout_summary_FW' found after waiting for page to load.\n",
      "WebDriver closed.\n",
      "\n",
      "--- HTML content from Selenium (first 2000 chars) ---\n",
      "<html data-version=\"klecko-\" data-root=\"/home/fb/deploy/www\" lang=\"en\" class=\" js cookies localstorage sessionstorage cors history csspositionsticky no-touchevents pointerevents matchmedia flexwrap desktop is_live\" style=\"\"><head><style class=\"vjs-styles-defaults\">\n",
      "      .video-js {\n",
      "        width: 300px;\n",
      "        height: 150px;\n",
      "      }\n",
      "\n",
      "      .vjs-fluid:not(.vjs-audio-only-mode) {\n",
      "        padding-top: 56.25%\n",
      "      }\n",
      "    </style><style class=\"vjs-styles-dimensions\">\n",
      "      .fsPlayer_e3f80453-0d2a-429d-abcc-d825f62600f0-dimensions {\n",
      "        width: 640px;\n",
      "        height: 480px;\n",
      "      }\n",
      "\n",
      "      .fsPlayer_e3f80453-0d2a-429d-abcc-d825f62600f0-dimensions.vjs-fluid:not(.vjs-audio-only-mode) {\n",
      "        padding-top: 75%;\n",
      "      }\n",
      "    </style><script async=\"\" type=\"text/javascript\" src=\"https://a.pub.network/superflex/loader.js\"></script><script async=\"\" src=\"https://a.ad.gt/api/v1/u/matches/454?url=https%3A%2F%2Ffbref.com%2Fen%2Fplayers%2F1f44ac21%2Fscout%2F12524%2FErling-Haaland-Scouting-Report&amp;ref=\"></script><script src=\"https://s0.2mdn.net/instream/video/client.js\" async=\"\" type=\"text/javascript\"></script><script src=\"https://rules.quantcount.com/rules-p-UeXruRVtZz7w6.js\" async=\"\"></script><script async=\"\" type=\"text/javascript\" src=\"https://cdn.hadronid.net/hadron.js?partner_id=474&amp;_it=prebid\"></script><script src=\"https://cdn.hadronid.net/hadron.js?url=https%3A%2F%2Ffbref.com%2Fen%2Fplayers%2F1f44ac21%2Fscout%2F12524%2FErling-Haaland-Scouting-Report&amp;ref=&amp;_it=freestar&amp;partner_id=474&amp;ha=_hadron\"></script><script async=\"\" src=\"//c.amazon-adsystem.com/aax2/apstag.js\"></script><script src=\"https://btloader.com/tag?o=5714937848528896&amp;upapi=true\"></script><style><!----> <!--?lit$4716460815$-->.osano-cm-window{font-family:Helvetica,Arial,Hiragino Sans GB,STXihei,Microsoft YaHei,WenQuanYi Micro Hei,Hind,MS Gothic,Apple SD Gothic Neo,NanumBarunGothic,sans-serif;font-size:16px;font-smooth:always;-webkit-font-smoothing:antialiased;-moz-osx-font-smoothingz:auto\n",
      "----------------------------------------------------\n",
      "\n",
      "Found the 'scout_summary_FW' table using Selenium and BeautifulSoup!\n",
      "\n",
      "Player Scouting Report Stats DataFrame (first 5 rows):\n",
      "             Standard Stats                  \n",
      "                  Statistic Per 90 Percentile\n",
      "0         Non-Penalty Goals   0.63       92.0\n",
      "1      npxG: Non-Penalty xG   0.62       94.0\n",
      "2               Shots Total   3.42       88.0\n",
      "3                   Assists   0.10       34.0\n",
      "4  xAG: Exp. Assisted Goals   0.10       39.0\n",
      "\n",
      "DataFrame shape: (21, 3)\n"
     ]
    },
    {
     "name": "stderr",
     "output_type": "stream",
     "text": [
      "C:\\Users\\q\\AppData\\Local\\Temp\\ipykernel_19512\\2953745260.py:41: FutureWarning: Passing literal html to 'read_html' is deprecated and will be removed in a future version. To read from a literal string, wrap it in a 'StringIO' object.\n",
      "  df_list = pd.read_html(str(target_table_selenium))\n"
     ]
    }
   ],
   "source": [
    "# Path to your MSEdgeDriver executable\n",
    "edge_driver_path = \"msedgedriver.exe\" # For Windows, if placed in project root\n",
    "\n",
    "service = Service(executable_path=edge_driver_path)\n",
    "options = webdriver.EdgeOptions() # This line should be changed\n",
    "# options.add_argument(\"--headless\") # Uncomment if you don't want a browser window pop-up\n",
    "options.add_argument(\"--disable-gpu\")\n",
    "options.add_argument(\"--no-sandbox\")\n",
    "options.add_argument(\"--disable-dev-shm-usage\")\n",
    "\n",
    "driver = webdriver.Edge(service=service, options=options) # This line should be changed\n",
    "\n",
    "player_url = \"https://fbref.com/en/players/1f44ac21/scout/12524/Erling-Haaland-Scouting-Report\"\n",
    "\n",
    "print(f\"Opening URL with Selenium (Edge): {player_url}\")\n",
    "driver.get(player_url)\n",
    "\n",
    "try:\n",
    "    WebDriverWait(driver, 30).until(\n",
    "        EC.presence_of_element_located((By.ID, \"scout_summary_FW\"))\n",
    "    )\n",
    "    print(\"Table element 'scout_summary_FW' found after waiting for page to load.\")\n",
    "except Exception as e:\n",
    "    print(f\"Could not find the table element 'scout_summary_FW' even after waiting. Error: {e}\")\n",
    "    print(\"This might happen if the ID is slightly different or the page loading takes longer.\")\n",
    "    print(\"Current URL after loading:\", driver.current_url)\n",
    "\n",
    "html_content_selenium = driver.page_source\n",
    "soup_selenium = BeautifulSoup(html_content_selenium, 'html.parser')\n",
    "driver.quit()\n",
    "\n",
    "print(\"WebDriver closed.\")\n",
    "print(\"\\n--- HTML content from Selenium (first 2000 chars) ---\")\n",
    "print(html_content_selenium[:2000])\n",
    "print(\"----------------------------------------------------\\n\")\n",
    "\n",
    "target_table_selenium = soup_selenium.find('table', {'id': 'scout_summary_FW'})\n",
    "\n",
    "if target_table_selenium:\n",
    "    print(\"Found the 'scout_summary_FW' table using Selenium and BeautifulSoup!\")\n",
    "    df_list = pd.read_html(str(target_table_selenium))\n",
    "    if df_list:\n",
    "        player_scout_df = df_list[0]\n",
    "        print(\"\\nPlayer Scouting Report Stats DataFrame (first 5 rows):\")\n",
    "        print(player_scout_df.head())\n",
    "        print(f\"\\nDataFrame shape: {player_scout_df.shape}\")\n",
    "    else:\n",
    "        print(\"Pandas could not parse the table into a DataFrame even after Selenium.\")\n",
    "else:\n",
    "    print(\"Selenium fetched the page, but the table with id 'scout_summary_FW' was still not found in the parsed HTML.\")"
   ]
  },
  {
   "cell_type": "code",
   "execution_count": null,
   "id": "ecc832f3-94a9-4ca6-a18f-e5ce325171d1",
   "metadata": {},
   "outputs": [],
   "source": []
  }
 ],
 "metadata": {
  "kernelspec": {
   "display_name": "Python 3 (ipykernel)",
   "language": "python",
   "name": "python3"
  },
  "language_info": {
   "codemirror_mode": {
    "name": "ipython",
    "version": 3
   },
   "file_extension": ".py",
   "mimetype": "text/x-python",
   "name": "python",
   "nbconvert_exporter": "python",
   "pygments_lexer": "ipython3",
   "version": "3.13.5"
  }
 },
 "nbformat": 4,
 "nbformat_minor": 5
}
